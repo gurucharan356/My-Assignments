{
 "cells": [
  {
   "cell_type": "markdown",
   "id": "cfedd8bb",
   "metadata": {},
   "source": [
    "## Program to print \"Hello Python\""
   ]
  },
  {
   "cell_type": "code",
   "execution_count": 37,
   "id": "ef4d161a",
   "metadata": {},
   "outputs": [
    {
     "name": "stdout",
     "output_type": "stream",
     "text": [
      "Hello Python\n"
     ]
    }
   ],
   "source": [
    "print(\"Hello Python\")"
   ]
  },
  {
   "cell_type": "markdown",
   "id": "3bc8a132",
   "metadata": {},
   "source": [
    "## Program to do arithmetical operations addition and subraction"
   ]
  },
  {
   "cell_type": "code",
   "execution_count": 41,
   "id": "0b262203",
   "metadata": {},
   "outputs": [
    {
     "name": "stdout",
     "output_type": "stream",
     "text": [
      "Enter the First Number 15\n",
      "Enter the Second Number 5\n",
      "Addition of two numbers is 20.0 \n",
      "Subraction of two numbers is 10.0\n"
     ]
    }
   ],
   "source": [
    "first = float(input(\"Enter the First Number \"))\n",
    "second = float(input(\"Enter the Second Number \"))\n",
    "addition = first+second\n",
    "subraction = first - second\n",
    "print(\"Addition of two numbers is\",addition,\"\\nSubraction of two numbers is\",subraction)"
   ]
  },
  {
   "cell_type": "markdown",
   "id": "54cd5d96",
   "metadata": {},
   "source": [
    "## Python program to find the area of a triangle"
   ]
  },
  {
   "cell_type": "code",
   "execution_count": 8,
   "id": "75246702",
   "metadata": {},
   "outputs": [
    {
     "name": "stdout",
     "output_type": "stream",
     "text": [
      "Enter the breadth of triangle: 11\n",
      "Enter the height of triangle: 11\n",
      "60.5\n"
     ]
    }
   ],
   "source": [
    "breadth = float(input(\"Enter the breadth of triangle: \"))\n",
    "height = float(input(\"Enter the height of triangle: \"))\n",
    "area = 0.5*(breadth*height)\n",
    "print(area)"
   ]
  },
  {
   "cell_type": "markdown",
   "id": "651eb32c",
   "metadata": {},
   "source": [
    "## Python program to swap two variables"
   ]
  },
  {
   "cell_type": "code",
   "execution_count": 21,
   "id": "d2a93a5f",
   "metadata": {},
   "outputs": [],
   "source": [
    "a = 10\n",
    "b = 15\n"
   ]
  },
  {
   "cell_type": "code",
   "execution_count": 22,
   "id": "08b15552",
   "metadata": {},
   "outputs": [],
   "source": [
    "c=b"
   ]
  },
  {
   "cell_type": "code",
   "execution_count": 23,
   "id": "8eb93f68",
   "metadata": {},
   "outputs": [],
   "source": [
    "b=a\n"
   ]
  },
  {
   "cell_type": "code",
   "execution_count": 24,
   "id": "fad3e8ea",
   "metadata": {},
   "outputs": [],
   "source": [
    "a=c"
   ]
  },
  {
   "cell_type": "code",
   "execution_count": 25,
   "id": "fa6f00f1",
   "metadata": {},
   "outputs": [
    {
     "name": "stdout",
     "output_type": "stream",
     "text": [
      "15 10\n"
     ]
    }
   ],
   "source": [
    "print(a,b)"
   ]
  },
  {
   "cell_type": "markdown",
   "id": "da7a84b0",
   "metadata": {},
   "source": [
    "## Python program to generate a random number"
   ]
  },
  {
   "cell_type": "code",
   "execution_count": 42,
   "id": "9b738685",
   "metadata": {},
   "outputs": [],
   "source": [
    "import random"
   ]
  },
  {
   "cell_type": "code",
   "execution_count": 43,
   "id": "103d4303",
   "metadata": {},
   "outputs": [
    {
     "name": "stdout",
     "output_type": "stream",
     "text": [
      "9\n"
     ]
    }
   ],
   "source": [
    "print(random.randint(0,9))"
   ]
  },
  {
   "cell_type": "code",
   "execution_count": 44,
   "id": "6449e966",
   "metadata": {},
   "outputs": [
    {
     "name": "stdout",
     "output_type": "stream",
     "text": [
      "61\n"
     ]
    }
   ],
   "source": [
    "print(random.randrange(0,100))"
   ]
  },
  {
   "cell_type": "code",
   "execution_count": null,
   "id": "2711587f",
   "metadata": {},
   "outputs": [],
   "source": []
  },
  {
   "cell_type": "code",
   "execution_count": null,
   "id": "b53f47c8",
   "metadata": {},
   "outputs": [],
   "source": []
  }
 ],
 "metadata": {
  "kernelspec": {
   "display_name": "Python 3",
   "language": "python",
   "name": "python3"
  },
  "language_info": {
   "codemirror_mode": {
    "name": "ipython",
    "version": 3
   },
   "file_extension": ".py",
   "mimetype": "text/x-python",
   "name": "python",
   "nbconvert_exporter": "python",
   "pygments_lexer": "ipython3",
   "version": "3.8.8"
  }
 },
 "nbformat": 4,
 "nbformat_minor": 5
}
